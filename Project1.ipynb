{
  "nbformat": 4,
  "nbformat_minor": 0,
  "metadata": {
    "colab": {
      "provenance": [],
      "authorship_tag": "ABX9TyPwnBFHuxR+UPzfL+duS+th",
      "include_colab_link": true
    },
    "kernelspec": {
      "name": "python3",
      "display_name": "Python 3"
    },
    "language_info": {
      "name": "python"
    }
  },
  "cells": [
    {
      "cell_type": "markdown",
      "metadata": {
        "id": "view-in-github",
        "colab_type": "text"
      },
      "source": [
        "<a href=\"https://colab.research.google.com/github/kenltho2/Num-Meth23/blob/main/Project1.ipynb\" target=\"_parent\"><img src=\"https://colab.research.google.com/assets/colab-badge.svg\" alt=\"Open In Colab\"/></a>"
      ]
    },
    {
      "cell_type": "markdown",
      "source": [
        "# <div align =\"center\"> Project 1 CPSMA 4413\n",
        "## <div align =\"center\"> Collaborators: Aaron Arias Vales, Dustin Tidmore, Kennedy Thomas\n",
        "### <div align =\"center\"> March 10th, 2023"
      ],
      "metadata": {
        "id": "4u7cYXx5yJIk"
      }
    },
    {
      "cell_type": "code",
      "execution_count": null,
      "metadata": {
        "id": "K8Ev43TRyHFr"
      },
      "outputs": [],
      "source": []
    }
  ]
}