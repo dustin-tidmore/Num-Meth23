{
 "cells": [
  {
   "cell_type": "markdown",
   "metadata": {},
   "source": [
    "## Project 2 : Differentiation -- CPSMA 4413 Dr. Jacob -- Kennedy Thomas, Aaron Arias Vales, Dustin Tidmore ver2.1"
   ]
  },
  {
   "cell_type": "code",
   "execution_count": 16,
   "metadata": {
    "id": "ck9Os9QZT2eR"
   },
   "outputs": [],
   "source": [
    "import math\n",
    "import pandas as pd\n",
    "import numpy as np\n",
    "import matplotlib.pyplot as plt"
   ]
  },
  {
   "cell_type": "code",
   "execution_count": 22,
   "metadata": {
    "id": "rAs_hTT-S61q"
   },
   "outputs": [],
   "source": [
    "#true error\n",
    "def terror(true, approx):\n",
    "  error_t = true - approx\n",
    "  return error_t\n",
    "\n",
    "#relative true error \n",
    "def rterror(terror,tValue):\n",
    "  RTerror = terror / tValue\n",
    "  return RTerror\n",
    "\n",
    "# function for e^x\n",
    "def f(x):\n",
    "  return math.exp(x)\n",
    "\n",
    "# forward difference\n",
    "def forward(x,h):\n",
    "  forx = ((f(x+h) - f(x))) / h\n",
    "  return forx\n",
    "\n",
    "# backward difference\n",
    "def backward(x,h):\n",
    "  backx = ((f(x-h) - f(x))) / h\n",
    "  return backx\n",
    "\n",
    "# central difference\n",
    "def center(x,h):\n",
    "  centerx = ((f(x+h) - f(x-h))) / (2*h)\n",
    "  return centerx\n",
    "\n",
    "#finite difference\n",
    "def finite(x,h):\n",
    "  second_deriv = ( ( f(x+h) - (2*f(x)) + f(x-h) ) ) / h**2\n",
    "  return second_deriv"
   ]
  },
  {
   "cell_type": "code",
   "execution_count": null,
   "metadata": {
    "id": "VmZo15TGYmu5"
   },
   "outputs": [],
   "source": [
    "# dataframe for my approximations at x=2, using the .append feature\n",
    "# .append feature is \"deprecated\" so used pd.concat but left this as another example\n",
    "#df = pd.DataFrame(columns = ['h','true value','front estimate','back estimate','center estimate','finite difference'])\n",
    "#for i in range(1,6):\n",
    " # df = df.append({'h': 1/10**i,\n",
    "  #                'true value': f(2),\n",
    "   #               'front estimate': forward(2,1/10**i),\n",
    "    #              'back estimate': backward(2, 1/10**i),\n",
    "     #             'center estimate': center(2,1/10**i),\n",
    "      #            'finite difference': finite(2,1/10**i)},\n",
    "       #           ignore_index=True)\n",
    "\n",
    "#df"
   ]
  },
  {
   "cell_type": "code",
   "execution_count": 18,
   "metadata": {
    "id": "ASB6A6uNauzG"
   },
   "outputs": [],
   "source": [
    "#Pandas Data Frame(s) laying out our data, separated into individual dataframes to concatenate later.\n",
    "# using for loops to fill each frame with appropriate data\n",
    "tx = 5 # tx is number of rows\n",
    "dfh = pd.DataFrame({'h': [10**-i for i in range(1,tx+1)]})\n",
    "dftrue = pd.DataFrame({'true val.': [f(2) for i in range(1,tx+1)]})\n",
    "dfforward = pd.DataFrame({'forward est.': [forward(2,10**-i) for i in range(1,tx+1)]})\n",
    "dfback = pd.DataFrame({'back est.': [backward(2,10**-i) for i in range(1,tx+1)]})\n",
    "dfcenter = pd.DataFrame({'center est.': [center(2,10**-i) for i in range(1,tx+1)]})\n",
    "dffinite = pd.DataFrame({'finite diff.': [finite(2,10**-i) for i in range(1,tx+1)]})\n",
    "\n",
    "# dataframes for error values\n",
    "dfForTruErr= pd.DataFrame({'forward true err.': [terror(f(2),forward(2,10**-i)) for i in range(1,tx+1)]})\n",
    "dfBackTruErr = pd.DataFrame({'back true err.': [terror(f(2),backward(2,10**-i)) for i in range(1,tx+1)]})\n",
    "dfCenterTruErr = pd.DataFrame({'center true err.': [terror(f(2),center(2,10**-i)) for i in range(1,tx+1)]})\n",
    "dfFiniteTruErr = pd.DataFrame({'finite true err': [terror(f(2),finite(2,10**-i)) for i in range(1,tx+1)]})\n",
    "dfForRelErr = pd.DataFrame({'forward relative err.': [rterror(terror(f(2),forward(2,10**-i)),f(2)) for i in range(1, tx+1)]})\n",
    "dfBackRelErr = pd.DataFrame({'back relative err': [rterror(terror(f(2),backward(2,10**-i)),f(2)) for i in range(1, tx+1)]})\n",
    "dfCenRelErr = pd.DataFrame({'center relative err': [rterror(terror(f(2),center(2,10**-i)),f(2)) for i in range(1, tx+1)]})\n",
    "dfFiniteRelErr = pd.DataFrame({'finite relative err': [rterror(terror(f(2),finite(2,10**-i)),f(2)) for i in range(1, tx+1)]})"
   ]
  },
  {
   "cell_type": "code",
   "execution_count": 10,
   "metadata": {
    "colab": {
     "base_uri": "https://localhost:8080/",
     "height": 206
    },
    "id": "PnbM_Iu2gFyE",
    "outputId": "9a66ae6e-f5a4-47dd-8716-78f8e053b50a"
   },
   "outputs": [
    {
     "data": {
      "text/html": [
       "<div>\n",
       "<style scoped>\n",
       "    .dataframe tbody tr th:only-of-type {\n",
       "        vertical-align: middle;\n",
       "    }\n",
       "\n",
       "    .dataframe tbody tr th {\n",
       "        vertical-align: top;\n",
       "    }\n",
       "\n",
       "    .dataframe thead th {\n",
       "        text-align: right;\n",
       "    }\n",
       "</style>\n",
       "<table border=\"1\" class=\"dataframe\">\n",
       "  <thead>\n",
       "    <tr style=\"text-align: right;\">\n",
       "      <th></th>\n",
       "      <th>h</th>\n",
       "      <th>true val.</th>\n",
       "      <th>forward est.</th>\n",
       "      <th>forward true err.</th>\n",
       "      <th>forward relative err.</th>\n",
       "    </tr>\n",
       "  </thead>\n",
       "  <tbody>\n",
       "    <tr>\n",
       "      <th>0</th>\n",
       "      <td>0.10000</td>\n",
       "      <td>7.389056</td>\n",
       "      <td>7.771138</td>\n",
       "      <td>-0.382082</td>\n",
       "      <td>-0.051709</td>\n",
       "    </tr>\n",
       "    <tr>\n",
       "      <th>1</th>\n",
       "      <td>0.01000</td>\n",
       "      <td>7.389056</td>\n",
       "      <td>7.426125</td>\n",
       "      <td>-0.037069</td>\n",
       "      <td>-0.005017</td>\n",
       "    </tr>\n",
       "    <tr>\n",
       "      <th>2</th>\n",
       "      <td>0.00100</td>\n",
       "      <td>7.389056</td>\n",
       "      <td>7.392752</td>\n",
       "      <td>-0.003696</td>\n",
       "      <td>-0.000500</td>\n",
       "    </tr>\n",
       "    <tr>\n",
       "      <th>3</th>\n",
       "      <td>0.00010</td>\n",
       "      <td>7.389056</td>\n",
       "      <td>7.389426</td>\n",
       "      <td>-0.000369</td>\n",
       "      <td>-0.000050</td>\n",
       "    </tr>\n",
       "    <tr>\n",
       "      <th>4</th>\n",
       "      <td>0.00001</td>\n",
       "      <td>7.389056</td>\n",
       "      <td>7.389093</td>\n",
       "      <td>-0.000037</td>\n",
       "      <td>-0.000005</td>\n",
       "    </tr>\n",
       "  </tbody>\n",
       "</table>\n",
       "</div>"
      ],
      "text/plain": [
       "         h  true val.  forward est.  forward true err.  forward relative err.\n",
       "0  0.10000   7.389056      7.771138          -0.382082              -0.051709\n",
       "1  0.01000   7.389056      7.426125          -0.037069              -0.005017\n",
       "2  0.00100   7.389056      7.392752          -0.003696              -0.000500\n",
       "3  0.00010   7.389056      7.389426          -0.000369              -0.000050\n",
       "4  0.00001   7.389056      7.389093          -0.000037              -0.000005"
      ]
     },
     "execution_count": 10,
     "metadata": {},
     "output_type": "execute_result"
    }
   ],
   "source": [
    "#concatenating the tables necessary for the forward difference derivative estimate\n",
    "\n",
    "Forward_Table = pd.concat([dfh,dftrue,dfforward,dfForTruErr,dfForRelErr], axis= 1)\n",
    "Forward_Table"
   ]
  },
  {
   "cell_type": "code",
   "execution_count": 11,
   "metadata": {
    "colab": {
     "base_uri": "https://localhost:8080/",
     "height": 206
    },
    "id": "e9DuRTme6IPR",
    "outputId": "a03601d4-dfd1-488f-898d-571ae12bac9c"
   },
   "outputs": [
    {
     "data": {
      "text/html": [
       "<div>\n",
       "<style scoped>\n",
       "    .dataframe tbody tr th:only-of-type {\n",
       "        vertical-align: middle;\n",
       "    }\n",
       "\n",
       "    .dataframe tbody tr th {\n",
       "        vertical-align: top;\n",
       "    }\n",
       "\n",
       "    .dataframe thead th {\n",
       "        text-align: right;\n",
       "    }\n",
       "</style>\n",
       "<table border=\"1\" class=\"dataframe\">\n",
       "  <thead>\n",
       "    <tr style=\"text-align: right;\">\n",
       "      <th></th>\n",
       "      <th>h</th>\n",
       "      <th>true val.</th>\n",
       "      <th>back est.</th>\n",
       "      <th>back true err.</th>\n",
       "      <th>back relative err</th>\n",
       "    </tr>\n",
       "  </thead>\n",
       "  <tbody>\n",
       "    <tr>\n",
       "      <th>0</th>\n",
       "      <td>0.10000</td>\n",
       "      <td>7.389056</td>\n",
       "      <td>-7.031617</td>\n",
       "      <td>14.420673</td>\n",
       "      <td>1.951626</td>\n",
       "    </tr>\n",
       "    <tr>\n",
       "      <th>1</th>\n",
       "      <td>0.01000</td>\n",
       "      <td>7.389056</td>\n",
       "      <td>-7.352234</td>\n",
       "      <td>14.741290</td>\n",
       "      <td>1.995017</td>\n",
       "    </tr>\n",
       "    <tr>\n",
       "      <th>2</th>\n",
       "      <td>0.00100</td>\n",
       "      <td>7.389056</td>\n",
       "      <td>-7.385363</td>\n",
       "      <td>14.774419</td>\n",
       "      <td>1.999500</td>\n",
       "    </tr>\n",
       "    <tr>\n",
       "      <th>3</th>\n",
       "      <td>0.00010</td>\n",
       "      <td>7.389056</td>\n",
       "      <td>-7.388687</td>\n",
       "      <td>14.777743</td>\n",
       "      <td>1.999950</td>\n",
       "    </tr>\n",
       "    <tr>\n",
       "      <th>4</th>\n",
       "      <td>0.00001</td>\n",
       "      <td>7.389056</td>\n",
       "      <td>-7.389019</td>\n",
       "      <td>14.778075</td>\n",
       "      <td>1.999995</td>\n",
       "    </tr>\n",
       "  </tbody>\n",
       "</table>\n",
       "</div>"
      ],
      "text/plain": [
       "         h  true val.  back est.  back true err.  back relative err\n",
       "0  0.10000   7.389056  -7.031617       14.420673           1.951626\n",
       "1  0.01000   7.389056  -7.352234       14.741290           1.995017\n",
       "2  0.00100   7.389056  -7.385363       14.774419           1.999500\n",
       "3  0.00010   7.389056  -7.388687       14.777743           1.999950\n",
       "4  0.00001   7.389056  -7.389019       14.778075           1.999995"
      ]
     },
     "execution_count": 11,
     "metadata": {},
     "output_type": "execute_result"
    }
   ],
   "source": [
    "#concatenating the tables necessary for the backward difference derivative estimate\n",
    "\n",
    "Backward_Table = pd.concat([dfh,dftrue,dfback,dfBackTruErr,dfBackRelErr], axis = 1)\n",
    "Backward_Table"
   ]
  },
  {
   "cell_type": "code",
   "execution_count": 12,
   "metadata": {
    "colab": {
     "base_uri": "https://localhost:8080/",
     "height": 206
    },
    "id": "q_TKGfrx6_EV",
    "outputId": "c6f6e1f2-40be-4acc-a786-490a8374c217"
   },
   "outputs": [
    {
     "data": {
      "text/html": [
       "<div>\n",
       "<style scoped>\n",
       "    .dataframe tbody tr th:only-of-type {\n",
       "        vertical-align: middle;\n",
       "    }\n",
       "\n",
       "    .dataframe tbody tr th {\n",
       "        vertical-align: top;\n",
       "    }\n",
       "\n",
       "    .dataframe thead th {\n",
       "        text-align: right;\n",
       "    }\n",
       "</style>\n",
       "<table border=\"1\" class=\"dataframe\">\n",
       "  <thead>\n",
       "    <tr style=\"text-align: right;\">\n",
       "      <th></th>\n",
       "      <th>h</th>\n",
       "      <th>true val.</th>\n",
       "      <th>center est.</th>\n",
       "      <th>center true err.</th>\n",
       "      <th>center relative err</th>\n",
       "    </tr>\n",
       "  </thead>\n",
       "  <tbody>\n",
       "    <tr>\n",
       "      <th>0</th>\n",
       "      <td>0.10000</td>\n",
       "      <td>7.389056</td>\n",
       "      <td>7.401377</td>\n",
       "      <td>-1.232125e-02</td>\n",
       "      <td>-1.667500e-03</td>\n",
       "    </tr>\n",
       "    <tr>\n",
       "      <th>1</th>\n",
       "      <td>0.01000</td>\n",
       "      <td>7.389056</td>\n",
       "      <td>7.389179</td>\n",
       "      <td>-1.231516e-04</td>\n",
       "      <td>-1.666675e-05</td>\n",
       "    </tr>\n",
       "    <tr>\n",
       "      <th>2</th>\n",
       "      <td>0.00100</td>\n",
       "      <td>7.389056</td>\n",
       "      <td>7.389057</td>\n",
       "      <td>-1.231509e-06</td>\n",
       "      <td>-1.666666e-07</td>\n",
       "    </tr>\n",
       "    <tr>\n",
       "      <th>3</th>\n",
       "      <td>0.00010</td>\n",
       "      <td>7.389056</td>\n",
       "      <td>7.389056</td>\n",
       "      <td>-1.232264e-08</td>\n",
       "      <td>-1.667688e-09</td>\n",
       "    </tr>\n",
       "    <tr>\n",
       "      <th>4</th>\n",
       "      <td>0.00001</td>\n",
       "      <td>7.389056</td>\n",
       "      <td>7.389056</td>\n",
       "      <td>-1.856799e-10</td>\n",
       "      <td>-2.512904e-11</td>\n",
       "    </tr>\n",
       "  </tbody>\n",
       "</table>\n",
       "</div>"
      ],
      "text/plain": [
       "         h  true val.  center est.  center true err.  center relative err\n",
       "0  0.10000   7.389056     7.401377     -1.232125e-02        -1.667500e-03\n",
       "1  0.01000   7.389056     7.389179     -1.231516e-04        -1.666675e-05\n",
       "2  0.00100   7.389056     7.389057     -1.231509e-06        -1.666666e-07\n",
       "3  0.00010   7.389056     7.389056     -1.232264e-08        -1.667688e-09\n",
       "4  0.00001   7.389056     7.389056     -1.856799e-10        -2.512904e-11"
      ]
     },
     "execution_count": 12,
     "metadata": {},
     "output_type": "execute_result"
    }
   ],
   "source": [
    "#concatenating the tables necessary for the central difference derivative estimate\n",
    "\n",
    "Center_Table = pd.concat([dfh,dftrue,dfcenter,dfCenterTruErr,dfCenRelErr], axis = 1)\n",
    "Center_Table"
   ]
  },
  {
   "cell_type": "code",
   "execution_count": 13,
   "metadata": {
    "colab": {
     "base_uri": "https://localhost:8080/",
     "height": 206
    },
    "id": "KmkIKAaY-OqT",
    "outputId": "7ff72308-bd6a-4256-c0d1-36904efe1fad"
   },
   "outputs": [
    {
     "data": {
      "text/html": [
       "<div>\n",
       "<style scoped>\n",
       "    .dataframe tbody tr th:only-of-type {\n",
       "        vertical-align: middle;\n",
       "    }\n",
       "\n",
       "    .dataframe tbody tr th {\n",
       "        vertical-align: top;\n",
       "    }\n",
       "\n",
       "    .dataframe thead th {\n",
       "        text-align: right;\n",
       "    }\n",
       "</style>\n",
       "<table border=\"1\" class=\"dataframe\">\n",
       "  <thead>\n",
       "    <tr style=\"text-align: right;\">\n",
       "      <th></th>\n",
       "      <th>h</th>\n",
       "      <th>true val.</th>\n",
       "      <th>finite diff.</th>\n",
       "      <th>finite true err</th>\n",
       "      <th>finite relative err</th>\n",
       "    </tr>\n",
       "  </thead>\n",
       "  <tbody>\n",
       "    <tr>\n",
       "      <th>0</th>\n",
       "      <td>0.10000</td>\n",
       "      <td>7.389056</td>\n",
       "      <td>-1.329784e+03</td>\n",
       "      <td>1.337173e+03</td>\n",
       "      <td>1.809666e+02</td>\n",
       "    </tr>\n",
       "    <tr>\n",
       "      <th>1</th>\n",
       "      <td>0.01000</td>\n",
       "      <td>7.389056</td>\n",
       "      <td>-1.463033e+05</td>\n",
       "      <td>1.463107e+05</td>\n",
       "      <td>1.980100e+04</td>\n",
       "    </tr>\n",
       "    <tr>\n",
       "      <th>2</th>\n",
       "      <td>0.00100</td>\n",
       "      <td>7.389056</td>\n",
       "      <td>-1.476333e+07</td>\n",
       "      <td>1.476334e+07</td>\n",
       "      <td>1.998001e+06</td>\n",
       "    </tr>\n",
       "    <tr>\n",
       "      <th>3</th>\n",
       "      <td>0.00010</td>\n",
       "      <td>7.389056</td>\n",
       "      <td>-1.477663e+09</td>\n",
       "      <td>1.477663e+09</td>\n",
       "      <td>1.999800e+08</td>\n",
       "    </tr>\n",
       "    <tr>\n",
       "      <th>4</th>\n",
       "      <td>0.00001</td>\n",
       "      <td>7.389056</td>\n",
       "      <td>-1.477796e+11</td>\n",
       "      <td>1.477796e+11</td>\n",
       "      <td>1.999980e+10</td>\n",
       "    </tr>\n",
       "  </tbody>\n",
       "</table>\n",
       "</div>"
      ],
      "text/plain": [
       "         h  true val.  finite diff.  finite true err  finite relative err\n",
       "0  0.10000   7.389056 -1.329784e+03     1.337173e+03         1.809666e+02\n",
       "1  0.01000   7.389056 -1.463033e+05     1.463107e+05         1.980100e+04\n",
       "2  0.00100   7.389056 -1.476333e+07     1.476334e+07         1.998001e+06\n",
       "3  0.00010   7.389056 -1.477663e+09     1.477663e+09         1.999800e+08\n",
       "4  0.00001   7.389056 -1.477796e+11     1.477796e+11         1.999980e+10"
      ]
     },
     "execution_count": 13,
     "metadata": {},
     "output_type": "execute_result"
    }
   ],
   "source": [
    "#concatenating the tables necessary for the second derivative estimate\n",
    "\n",
    "Finite_Table = pd.concat([dfh,dftrue,dffinite,dfFiniteTruErr,dfFiniteRelErr], axis = 1)\n",
    "Finite_Table"
   ]
  },
  {
   "cell_type": "code",
   "execution_count": 19,
   "metadata": {
    "colab": {
     "base_uri": "https://localhost:8080/",
     "height": 279
    },
    "id": "Wg7mCu2MnnJa",
    "outputId": "10a8d911-c8e4-4bef-b985-c0aa512777f2"
   },
   "outputs": [
    {
     "data": {
      "image/png": "[encoded data removed]",
      "text/plain": [
       "<Figure size 640x480 with 1 Axes>"
      ]
     },
     "metadata": {},
     "output_type": "display_data"
    }
   ],
   "source": [
    "x = np.array([2,2.1,4])\n",
    "y = np.array([math.exp(2),math.exp(2.1),math.exp(4)])\n",
    "\n",
    "\n",
    "\n",
    "# for the lagrange interpolation, I will be creating a numpy array that is the \n",
    "# domain of our function, using np.arange to generate a set of x values to graph\n",
    "# the points in between our given data points. this will also be the domain used\n",
    "# to graph the true function\n",
    "\n",
    "#np.arange(2,4, .01) is the inclusive range from first x to last x with a step size of 0.01\n",
    "\n",
    "xlag = np.arange(x[0],x[-1],.01)\n",
    "\n",
    "# creating an empty np array for our range , ylag\n",
    "\n",
    "ylag = np.array([])\n",
    "\n",
    "# the for loop below is the structure that creates our interpolation.\n",
    "# the zip() function returns an ordered pair, and np.prod() returns the product of\n",
    "# the contents of the function. the np.append(ylag, py) function inserts a range value\n",
    "# value for each value in the domain at the end of the loop.\n",
    "\n",
    "for px in xlag:\n",
    "  py = 0\n",
    "  for xi, yi, in zip(x,y):\n",
    "    py += yi * np.prod( (px- x[x!=xi]) / (xi - x[x!=xi]))\n",
    "  ylag = np.append(ylag, py)\n",
    "\n",
    "x_true = np.arange(2,4,.01)\n",
    "\n",
    "#points\n",
    "plt.plot(x,y,'ro')\n",
    "\n",
    "# graph of lagrange interpolation\n",
    "plt.plot(xlag, ylag, 'b-', label = 'Lagrange Interpolation')\n",
    "\n",
    "# graph of true function\n",
    "plt.plot(xlag,np.exp(x_true),'g-', label = 'e^x')\n",
    "\n",
    "#axis label and legend\n",
    "plt.xlabel('Approximation vs. Defined Function')\n",
    "plt.legend()\n",
    "plt.show()"
   ]
  },
  {
   "cell_type": "code",
   "execution_count": 24,
   "metadata": {
    "colab": {
     "base_uri": "https://localhost:8080/"
    },
    "id": "MJTBqaWs2eVj",
    "outputId": "719d05a7-0991-46ed-e68e-0be39dba9e32"
   },
   "outputs": [
    {
     "name": "stdout",
     "output_type": "stream",
     "text": [
      "true value = 9.025013499434122\n",
      "approximate value = 9.109951187580787\n",
      "true error = -0.08493768814666502\n",
      "relative true error =-0.009411364110645453\n"
     ]
    }
   ],
   "source": [
    "# error of approximation at x=2.2\n",
    "# calling ylag[20] as the 20th entry corresponds to the\n",
    "# x value = 2.2, as our step size is .01 and it takes 20\n",
    "# steps from 2 to get to 2.2\n",
    "\n",
    "print('true value = ' + str(f(2.2)))\n",
    "print('approximate value = ' + str(ylag[20]))\n",
    "\n",
    "print('true error = ' + str(terror(f(2.2),ylag[20])))\n",
    "print('relative true error =' + str(rterror(terror(f(2.2),ylag[20]),f(2.2))))"
   ]
  },
  {
   "cell_type": "code",
   "execution_count": 26,
   "metadata": {
    "id": "BiUwRlPfF2vi"
   },
   "outputs": [
    {
     "name": "stdout",
     "output_type": "stream",
     "text": [
      "true value of second derivative = 9.025013499434122\n",
      "approximate value of second derivative = 9044.928753501154\n",
      "true error of second derivative = -9035.903740001719\n",
      "relative true error of second derivative = -1001.9629061018182\n"
     ]
    }
   ],
   "source": [
    "# error of second deriv at x = 2.2\n",
    "# f''(2.2) = f'(2.2) = f(2.2) \n",
    "\n",
    "print('true value of second derivative = ' + str(f(2.2)))\n",
    "print('approximate value of second derivative = ' + str(finite(ylag[20],10**-2)))\n",
    "print('true error of second derivative = ' + str(terror(f(2.2),finite(ylag[20],10**-2))))\n",
    "print('relative true error of second derivative = ' + str(rterror(terror(2.2,finite(ylag[20],10**-2)), f(2.2))))"
   ]
  }
 ],
 "metadata": {
  "colab": {
   "provenance": []
  },
  "kernelspec": {
   "display_name": "Python 3 (ipykernel)",
   "language": "python",
   "name": "python3"
  },
  "language_info": {
   "codemirror_mode": {
    "name": "ipython",
    "version": 3
   },
   "file_extension": ".py",
   "mimetype": "text/x-python",
   "name": "python",
   "nbconvert_exporter": "python",
   "pygments_lexer": "ipython3",
   "version": "3.9.13"
  },
  "toc-showcode": true,
  "toc-showmarkdowntxt": true
 },
 "nbformat": 4,
 "nbformat_minor": 4
}
