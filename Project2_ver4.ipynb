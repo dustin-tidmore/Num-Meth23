{
  "cells": [
    {
      "cell_type": "markdown",
      "metadata": {
        "id": "view-in-github",
        "colab_type": "text"
      },
      "source": [
        "<a href=\"https://colab.research.google.com/github/dustin-tidmore/Num-Meth23/blob/main/Project2_ver4.ipynb\" target=\"_parent\"><img src=\"https://colab.research.google.com/assets/colab-badge.svg\" alt=\"Open In Colab\"/></a>"
      ]
    },
    {
      "cell_type": "markdown",
      "metadata": {
        "id": "EgllU7VTmPaS"
      },
      "source": [
        "# Project 2 : Differentiation \n",
        "## CPSMA 4413, Dr. Jacob, 3/26/2023\n",
        "### Kennedy Thomas, Aaron Arias Vales, Dustin Tidmore ver4"
      ]
    },
    {
      "cell_type": "code",
      "execution_count": null,
      "metadata": {
        "id": "ck9Os9QZT2eR"
      },
      "outputs": [],
      "source": [
        "import math\n",
        "import pandas as pd\n",
        "import numpy as np\n",
        "import matplotlib.pyplot as plt"
      ]
    },
    {
      "cell_type": "markdown",
      "metadata": {
        "id": "DqWZFlrUmPaV"
      },
      "source": [
        "### *We start by writing our functions to approximate forward, backward, and central difference derivative estimates, along with a function to approximate the second derivative. We recycled our error functions from Project 1.*"
      ]
    },
    {
      "cell_type": "code",
      "execution_count": null,
      "metadata": {
        "id": "rAs_hTT-S61q"
      },
      "outputs": [],
      "source": [
        "#true error\n",
        "def terror(true, approx):\n",
        "  error_t = true - approx\n",
        "  return error_t\n",
        "\n",
        "#relative true error \n",
        "def rterror(terror,tValue):\n",
        "  RTerror = terror / tValue\n",
        "  return RTerror\n",
        "\n",
        "# function for e^x\n",
        "def f(x):\n",
        "  return math.exp(x)\n",
        "\n",
        "# forward difference\n",
        "def forward(x,h):\n",
        "  forx = ((f(x+h) - f(x))) / h\n",
        "  return forx\n",
        "\n",
        "# backward difference\n",
        "def backward(x,h):\n",
        "  backx = ((f(x-h) - f(x))) / h\n",
        "  return backx\n",
        "\n",
        "# central difference\n",
        "def center(x,h):\n",
        "  centerx = ((f(x+h) - f(x-h))) / (2*h)\n",
        "  return centerx\n",
        "\n",
        "#finite difference\n",
        "def finite(x,h):\n",
        "  second_deriv = ( ( f(x+h) - (2*f(x)) + f(x-h) ) ) / h**2\n",
        "  return second_deriv"
      ]
    },
    {
      "cell_type": "markdown",
      "metadata": {
        "id": "ZKTQgL-cmPaX"
      },
      "source": [
        "# Pandas Dataframes"
      ]
    },
    {
      "cell_type": "code",
      "execution_count": null,
      "metadata": {
        "id": "ASB6A6uNauzG"
      },
      "outputs": [],
      "source": [
        "#Pandas Data Frame(s) laying out our data, separated into individual dataframes to concatenate later.\n",
        "# using for loops to fill each frame with appropriate data\n",
        "tx = 5 # tx is number of rows\n",
        "dfh = pd.DataFrame({'h': [10**-i for i in range(1,tx+1)]})\n",
        "dftrue = pd.DataFrame({'true val.': [f(2) for i in range(1,tx+1)]})\n",
        "dfforward = pd.DataFrame({'forward est.': [forward(2,10**-i) for i in range(1,tx+1)]})\n",
        "dfback = pd.DataFrame({'back est.': [backward(2,10**-i) for i in range(1,tx+1)]})\n",
        "dfcenter = pd.DataFrame({'center est.': [center(2,10**-i) for i in range(1,tx+1)]})\n",
        "dffinite = pd.DataFrame({'finite diff.': [finite(2,10**-i) for i in range(1,tx+1)]})\n",
        "\n",
        "# dataframes for error values\n",
        "dfForTruErr= pd.DataFrame({'forward true err.': [terror(f(2),forward(2,10**-i)) for i in range(1,tx+1)]})\n",
        "dfBackTruErr = pd.DataFrame({'back true err.': [terror(f(2),backward(2,10**-i)) for i in range(1,tx+1)]})\n",
        "dfCenterTruErr = pd.DataFrame({'center true err.': [terror(f(2),center(2,10**-i)) for i in range(1,tx+1)]})\n",
        "dfFiniteTruErr = pd.DataFrame({'finite true err': [terror(f(2),finite(2,10**-i)) for i in range(1,tx+1)]})\n",
        "dfForRelErr = pd.DataFrame({'forward relative err.': [rterror(terror(f(2),forward(2,10**-i)),f(2)) for i in range(1, tx+1)]})\n",
        "dfBackRelErr = pd.DataFrame({'back relative err': [rterror(terror(f(2),backward(2,10**-i)),f(2)) for i in range(1, tx+1)]})\n",
        "dfCenRelErr = pd.DataFrame({'center relative err': [rterror(terror(f(2),center(2,10**-i)),f(2)) for i in range(1, tx+1)]})\n",
        "dfFiniteRelErr = pd.DataFrame({'finite relative err': [rterror(terror(f(2),finite(2,10**-i)),f(2)) for i in range(1, tx+1)]})"
      ]
    },
    {
      "cell_type": "markdown",
      "metadata": {
        "id": "nZ2QdGqLmPaY"
      },
      "source": [
        "# Forward Difference Derivative Estimate"
      ]
    },
    {
      "cell_type": "code",
      "execution_count": null,
      "metadata": {
        "colab": {
          "base_uri": "https://localhost:8080/",
          "height": 206
        },
        "id": "PnbM_Iu2gFyE",
        "outputId": "fcbf657c-4f7e-4750-be0a-37dc02afac41"
      },
      "outputs": [
        {
          "output_type": "execute_result",
          "data": {
            "text/plain": [
              "         h  true val.  forward est.  forward true err.  forward relative err.\n",
              "0  0.10000   7.389056      7.771138          -0.382082              -0.051709\n",
              "1  0.01000   7.389056      7.426125          -0.037069              -0.005017\n",
              "2  0.00100   7.389056      7.392752          -0.003696              -0.000500\n",
              "3  0.00010   7.389056      7.389426          -0.000369              -0.000050\n",
              "4  0.00001   7.389056      7.389093          -0.000037              -0.000005"
            ],
            "text/html": [
              "\n",
              "  <div id=\"df-35105165-1e2e-40ba-962d-288da77281ef\">\n",
              "    <div class=\"colab-df-container\">\n",
              "      <div>\n",
              "<style scoped>\n",
              "    .dataframe tbody tr th:only-of-type {\n",
              "        vertical-align: middle;\n",
              "    }\n",
              "\n",
              "    .dataframe tbody tr th {\n",
              "        vertical-align: top;\n",
              "    }\n",
              "\n",
              "    .dataframe thead th {\n",
              "        text-align: right;\n",
              "    }\n",
              "</style>\n",
              "<table border=\"1\" class=\"dataframe\">\n",
              "  <thead>\n",
              "    <tr style=\"text-align: right;\">\n",
              "      <th></th>\n",
              "      <th>h</th>\n",
              "      <th>true val.</th>\n",
              "      <th>forward est.</th>\n",
              "      <th>forward true err.</th>\n",
              "      <th>forward relative err.</th>\n",
              "    </tr>\n",
              "  </thead>\n",
              "  <tbody>\n",
              "    <tr>\n",
              "      <th>0</th>\n",
              "      <td>0.10000</td>\n",
              "      <td>7.389056</td>\n",
              "      <td>7.771138</td>\n",
              "      <td>-0.382082</td>\n",
              "      <td>-0.051709</td>\n",
              "    </tr>\n",
              "    <tr>\n",
              "      <th>1</th>\n",
              "      <td>0.01000</td>\n",
              "      <td>7.389056</td>\n",
              "      <td>7.426125</td>\n",
              "      <td>-0.037069</td>\n",
              "      <td>-0.005017</td>\n",
              "    </tr>\n",
              "    <tr>\n",
              "      <th>2</th>\n",
              "      <td>0.00100</td>\n",
              "      <td>7.389056</td>\n",
              "      <td>7.392752</td>\n",
              "      <td>-0.003696</td>\n",
              "      <td>-0.000500</td>\n",
              "    </tr>\n",
              "    <tr>\n",
              "      <th>3</th>\n",
              "      <td>0.00010</td>\n",
              "      <td>7.389056</td>\n",
              "      <td>7.389426</td>\n",
              "      <td>-0.000369</td>\n",
              "      <td>-0.000050</td>\n",
              "    </tr>\n",
              "    <tr>\n",
              "      <th>4</th>\n",
              "      <td>0.00001</td>\n",
              "      <td>7.389056</td>\n",
              "      <td>7.389093</td>\n",
              "      <td>-0.000037</td>\n",
              "      <td>-0.000005</td>\n",
              "    </tr>\n",
              "  </tbody>\n",
              "</table>\n",
              "</div>\n",
              "      <button class=\"colab-df-convert\" onclick=\"convertToInteractive('df-35105165-1e2e-40ba-962d-288da77281ef')\"\n",
              "              title=\"Convert this dataframe to an interactive table.\"\n",
              "              style=\"display:none;\">\n",
              "        \n",
              "  <svg xmlns=\"http://www.w3.org/2000/svg\" height=\"24px\"viewBox=\"0 0 24 24\"\n",
              "       width=\"24px\">\n",
              "    <path d=\"M0 0h24v24H0V0z\" fill=\"none\"/>\n",
              "    <path d=\"M18.56 5.44l.94 2.06.94-2.06 2.06-.94-2.06-.94-.94-2.06-.94 2.06-2.06.94zm-11 1L8.5 8.5l.94-2.06 2.06-.94-2.06-.94L8.5 2.5l-.94 2.06-2.06.94zm10 10l.94 2.06.94-2.06 2.06-.94-2.06-.94-.94-2.06-.94 2.06-2.06.94z\"/><path d=\"M17.41 7.96l-1.37-1.37c-.4-.4-.92-.59-1.43-.59-.52 0-1.04.2-1.43.59L10.3 9.45l-7.72 7.72c-.78.78-.78 2.05 0 2.83L4 21.41c.39.39.9.59 1.41.59.51 0 1.02-.2 1.41-.59l7.78-7.78 2.81-2.81c.8-.78.8-2.07 0-2.86zM5.41 20L4 18.59l7.72-7.72 1.47 1.35L5.41 20z\"/>\n",
              "  </svg>\n",
              "      </button>\n",
              "      \n",
              "  <style>\n",
              "    .colab-df-container {\n",
              "      display:flex;\n",
              "      flex-wrap:wrap;\n",
              "      gap: 12px;\n",
              "    }\n",
              "\n",
              "    .colab-df-convert {\n",
              "      background-color: #E8F0FE;\n",
              "      border: none;\n",
              "      border-radius: 50%;\n",
              "      cursor: pointer;\n",
              "      display: none;\n",
              "      fill: #1967D2;\n",
              "      height: 32px;\n",
              "      padding: 0 0 0 0;\n",
              "      width: 32px;\n",
              "    }\n",
              "\n",
              "    .colab-df-convert:hover {\n",
              "      background-color: #E2EBFA;\n",
              "      box-shadow: 0px 1px 2px rgba(60, 64, 67, 0.3), 0px 1px 3px 1px rgba(60, 64, 67, 0.15);\n",
              "      fill: #174EA6;\n",
              "    }\n",
              "\n",
              "    [theme=dark] .colab-df-convert {\n",
              "      background-color: #3B4455;\n",
              "      fill: #D2E3FC;\n",
              "    }\n",
              "\n",
              "    [theme=dark] .colab-df-convert:hover {\n",
              "      background-color: #434B5C;\n",
              "      box-shadow: 0px 1px 3px 1px rgba(0, 0, 0, 0.15);\n",
              "      filter: drop-shadow(0px 1px 2px rgba(0, 0, 0, 0.3));\n",
              "      fill: #FFFFFF;\n",
              "    }\n",
              "  </style>\n",
              "\n",
              "      <script>\n",
              "        const buttonEl =\n",
              "          document.querySelector('#df-35105165-1e2e-40ba-962d-288da77281ef button.colab-df-convert');\n",
              "        buttonEl.style.display =\n",
              "          google.colab.kernel.accessAllowed ? 'block' : 'none';\n",
              "\n",
              "        async function convertToInteractive(key) {\n",
              "          const element = document.querySelector('#df-35105165-1e2e-40ba-962d-288da77281ef');\n",
              "          const dataTable =\n",
              "            await google.colab.kernel.invokeFunction('convertToInteractive',\n",
              "                                                     [key], {});\n",
              "          if (!dataTable) return;\n",
              "\n",
              "          const docLinkHtml = 'Like what you see? Visit the ' +\n",
              "            '<a target=\"_blank\" href=https://colab.research.google.com/notebooks/data_table.ipynb>data table notebook</a>'\n",
              "            + ' to learn more about interactive tables.';\n",
              "          element.innerHTML = '';\n",
              "          dataTable['output_type'] = 'display_data';\n",
              "          await google.colab.output.renderOutput(dataTable, element);\n",
              "          const docLink = document.createElement('div');\n",
              "          docLink.innerHTML = docLinkHtml;\n",
              "          element.appendChild(docLink);\n",
              "        }\n",
              "      </script>\n",
              "    </div>\n",
              "  </div>\n",
              "  "
            ]
          },
          "metadata": {},
          "execution_count": 5
        }
      ],
      "source": [
        "#concatenating the tables necessary for the forward difference derivative estimate\n",
        "\n",
        "Forward_Table = pd.concat([dfh,dftrue,dfforward,dfForTruErr,dfForRelErr], axis= 1)\n",
        "Forward_Table"
      ]
    },
    {
      "cell_type": "markdown",
      "metadata": {
        "id": "nb9zqx1zmPaa"
      },
      "source": [
        "**The forward difference slightly underestimates the derivative, getting smaller as the step size shrinks.**"
      ]
    },
    {
      "cell_type": "markdown",
      "metadata": {
        "id": "oFiqjl0hmPaa"
      },
      "source": [
        "# Backward Difference Derivative Estimate"
      ]
    },
    {
      "cell_type": "code",
      "execution_count": null,
      "metadata": {
        "colab": {
          "base_uri": "https://localhost:8080/",
          "height": 206
        },
        "id": "e9DuRTme6IPR",
        "outputId": "d908a712-b1a7-4e59-bccf-faa3bd153227"
      },
      "outputs": [
        {
          "output_type": "execute_result",
          "data": {
            "text/plain": [
              "         h  true val.  back est.  back true err.  back relative err\n",
              "0  0.10000   7.389056  -7.031617       14.420673           1.951626\n",
              "1  0.01000   7.389056  -7.352234       14.741290           1.995017\n",
              "2  0.00100   7.389056  -7.385363       14.774419           1.999500\n",
              "3  0.00010   7.389056  -7.388687       14.777743           1.999950\n",
              "4  0.00001   7.389056  -7.389019       14.778075           1.999995"
            ],
            "text/html": [
              "\n",
              "  <div id=\"df-a2098b1b-75fe-4e80-8d8e-8436c0d3ef37\">\n",
              "    <div class=\"colab-df-container\">\n",
              "      <div>\n",
              "<style scoped>\n",
              "    .dataframe tbody tr th:only-of-type {\n",
              "        vertical-align: middle;\n",
              "    }\n",
              "\n",
              "    .dataframe tbody tr th {\n",
              "        vertical-align: top;\n",
              "    }\n",
              "\n",
              "    .dataframe thead th {\n",
              "        text-align: right;\n",
              "    }\n",
              "</style>\n",
              "<table border=\"1\" class=\"dataframe\">\n",
              "  <thead>\n",
              "    <tr style=\"text-align: right;\">\n",
              "      <th></th>\n",
              "      <th>h</th>\n",
              "      <th>true val.</th>\n",
              "      <th>back est.</th>\n",
              "      <th>back true err.</th>\n",
              "      <th>back relative err</th>\n",
              "    </tr>\n",
              "  </thead>\n",
              "  <tbody>\n",
              "    <tr>\n",
              "      <th>0</th>\n",
              "      <td>0.10000</td>\n",
              "      <td>7.389056</td>\n",
              "      <td>-7.031617</td>\n",
              "      <td>14.420673</td>\n",
              "      <td>1.951626</td>\n",
              "    </tr>\n",
              "    <tr>\n",
              "      <th>1</th>\n",
              "      <td>0.01000</td>\n",
              "      <td>7.389056</td>\n",
              "      <td>-7.352234</td>\n",
              "      <td>14.741290</td>\n",
              "      <td>1.995017</td>\n",
              "    </tr>\n",
              "    <tr>\n",
              "      <th>2</th>\n",
              "      <td>0.00100</td>\n",
              "      <td>7.389056</td>\n",
              "      <td>-7.385363</td>\n",
              "      <td>14.774419</td>\n",
              "      <td>1.999500</td>\n",
              "    </tr>\n",
              "    <tr>\n",
              "      <th>3</th>\n",
              "      <td>0.00010</td>\n",
              "      <td>7.389056</td>\n",
              "      <td>-7.388687</td>\n",
              "      <td>14.777743</td>\n",
              "      <td>1.999950</td>\n",
              "    </tr>\n",
              "    <tr>\n",
              "      <th>4</th>\n",
              "      <td>0.00001</td>\n",
              "      <td>7.389056</td>\n",
              "      <td>-7.389019</td>\n",
              "      <td>14.778075</td>\n",
              "      <td>1.999995</td>\n",
              "    </tr>\n",
              "  </tbody>\n",
              "</table>\n",
              "</div>\n",
              "      <button class=\"colab-df-convert\" onclick=\"convertToInteractive('df-a2098b1b-75fe-4e80-8d8e-8436c0d3ef37')\"\n",
              "              title=\"Convert this dataframe to an interactive table.\"\n",
              "              style=\"display:none;\">\n",
              "        \n",
              "  <svg xmlns=\"http://www.w3.org/2000/svg\" height=\"24px\"viewBox=\"0 0 24 24\"\n",
              "       width=\"24px\">\n",
              "    <path d=\"M0 0h24v24H0V0z\" fill=\"none\"/>\n",
              "    <path d=\"M18.56 5.44l.94 2.06.94-2.06 2.06-.94-2.06-.94-.94-2.06-.94 2.06-2.06.94zm-11 1L8.5 8.5l.94-2.06 2.06-.94-2.06-.94L8.5 2.5l-.94 2.06-2.06.94zm10 10l.94 2.06.94-2.06 2.06-.94-2.06-.94-.94-2.06-.94 2.06-2.06.94z\"/><path d=\"M17.41 7.96l-1.37-1.37c-.4-.4-.92-.59-1.43-.59-.52 0-1.04.2-1.43.59L10.3 9.45l-7.72 7.72c-.78.78-.78 2.05 0 2.83L4 21.41c.39.39.9.59 1.41.59.51 0 1.02-.2 1.41-.59l7.78-7.78 2.81-2.81c.8-.78.8-2.07 0-2.86zM5.41 20L4 18.59l7.72-7.72 1.47 1.35L5.41 20z\"/>\n",
              "  </svg>\n",
              "      </button>\n",
              "      \n",
              "  <style>\n",
              "    .colab-df-container {\n",
              "      display:flex;\n",
              "      flex-wrap:wrap;\n",
              "      gap: 12px;\n",
              "    }\n",
              "\n",
              "    .colab-df-convert {\n",
              "      background-color: #E8F0FE;\n",
              "      border: none;\n",
              "      border-radius: 50%;\n",
              "      cursor: pointer;\n",
              "      display: none;\n",
              "      fill: #1967D2;\n",
              "      height: 32px;\n",
              "      padding: 0 0 0 0;\n",
              "      width: 32px;\n",
              "    }\n",
              "\n",
              "    .colab-df-convert:hover {\n",
              "      background-color: #E2EBFA;\n",
              "      box-shadow: 0px 1px 2px rgba(60, 64, 67, 0.3), 0px 1px 3px 1px rgba(60, 64, 67, 0.15);\n",
              "      fill: #174EA6;\n",
              "    }\n",
              "\n",
              "    [theme=dark] .colab-df-convert {\n",
              "      background-color: #3B4455;\n",
              "      fill: #D2E3FC;\n",
              "    }\n",
              "\n",
              "    [theme=dark] .colab-df-convert:hover {\n",
              "      background-color: #434B5C;\n",
              "      box-shadow: 0px 1px 3px 1px rgba(0, 0, 0, 0.15);\n",
              "      filter: drop-shadow(0px 1px 2px rgba(0, 0, 0, 0.3));\n",
              "      fill: #FFFFFF;\n",
              "    }\n",
              "  </style>\n",
              "\n",
              "      <script>\n",
              "        const buttonEl =\n",
              "          document.querySelector('#df-a2098b1b-75fe-4e80-8d8e-8436c0d3ef37 button.colab-df-convert');\n",
              "        buttonEl.style.display =\n",
              "          google.colab.kernel.accessAllowed ? 'block' : 'none';\n",
              "\n",
              "        async function convertToInteractive(key) {\n",
              "          const element = document.querySelector('#df-a2098b1b-75fe-4e80-8d8e-8436c0d3ef37');\n",
              "          const dataTable =\n",
              "            await google.colab.kernel.invokeFunction('convertToInteractive',\n",
              "                                                     [key], {});\n",
              "          if (!dataTable) return;\n",
              "\n",
              "          const docLinkHtml = 'Like what you see? Visit the ' +\n",
              "            '<a target=\"_blank\" href=https://colab.research.google.com/notebooks/data_table.ipynb>data table notebook</a>'\n",
              "            + ' to learn more about interactive tables.';\n",
              "          element.innerHTML = '';\n",
              "          dataTable['output_type'] = 'display_data';\n",
              "          await google.colab.output.renderOutput(dataTable, element);\n",
              "          const docLink = document.createElement('div');\n",
              "          docLink.innerHTML = docLinkHtml;\n",
              "          element.appendChild(docLink);\n",
              "        }\n",
              "      </script>\n",
              "    </div>\n",
              "  </div>\n",
              "  "
            ]
          },
          "metadata": {},
          "execution_count": 6
        }
      ],
      "source": [
        "#concatenating the tables necessary for the backward difference derivative estimate\n",
        "\n",
        "Backward_Table = pd.concat([dfh,dftrue,dfback,dfBackTruErr,dfBackRelErr], axis = 1)\n",
        "Backward_Table"
      ]
    },
    {
      "cell_type": "markdown",
      "metadata": {
        "id": "4yGYufvkmPab"
      },
      "source": [
        "**The backward difference derivative estimate tends toward the negative of the true value of the function, again, getting closer and closer as the step size gets smaller.**"
      ]
    },
    {
      "cell_type": "markdown",
      "metadata": {
        "id": "wPX_pWLVmPab"
      },
      "source": [
        "# Central Difference Derivative Estimate"
      ]
    },
    {
      "cell_type": "code",
      "execution_count": null,
      "metadata": {
        "colab": {
          "base_uri": "https://localhost:8080/",
          "height": 206
        },
        "id": "q_TKGfrx6_EV",
        "outputId": "152fda4c-f20f-477e-d5b5-a41b1a9f0b3a"
      },
      "outputs": [
        {
          "output_type": "execute_result",
          "data": {
            "text/plain": [
              "         h  true val.  center est.  center true err.  center relative err\n",
              "0  0.10000   7.389056     7.401377     -1.232125e-02        -1.667500e-03\n",
              "1  0.01000   7.389056     7.389179     -1.231516e-04        -1.666675e-05\n",
              "2  0.00100   7.389056     7.389057     -1.231509e-06        -1.666666e-07\n",
              "3  0.00010   7.389056     7.389056     -1.232264e-08        -1.667688e-09\n",
              "4  0.00001   7.389056     7.389056     -1.856799e-10        -2.512904e-11"
            ],
            "text/html": [
              "\n",
              "  <div id=\"df-80b61568-ff87-47cd-a710-4f5064b941be\">\n",
              "    <div class=\"colab-df-container\">\n",
              "      <div>\n",
              "<style scoped>\n",
              "    .dataframe tbody tr th:only-of-type {\n",
              "        vertical-align: middle;\n",
              "    }\n",
              "\n",
              "    .dataframe tbody tr th {\n",
              "        vertical-align: top;\n",
              "    }\n",
              "\n",
              "    .dataframe thead th {\n",
              "        text-align: right;\n",
              "    }\n",
              "</style>\n",
              "<table border=\"1\" class=\"dataframe\">\n",
              "  <thead>\n",
              "    <tr style=\"text-align: right;\">\n",
              "      <th></th>\n",
              "      <th>h</th>\n",
              "      <th>true val.</th>\n",
              "      <th>center est.</th>\n",
              "      <th>center true err.</th>\n",
              "      <th>center relative err</th>\n",
              "    </tr>\n",
              "  </thead>\n",
              "  <tbody>\n",
              "    <tr>\n",
              "      <th>0</th>\n",
              "      <td>0.10000</td>\n",
              "      <td>7.389056</td>\n",
              "      <td>7.401377</td>\n",
              "      <td>-1.232125e-02</td>\n",
              "      <td>-1.667500e-03</td>\n",
              "    </tr>\n",
              "    <tr>\n",
              "      <th>1</th>\n",
              "      <td>0.01000</td>\n",
              "      <td>7.389056</td>\n",
              "      <td>7.389179</td>\n",
              "      <td>-1.231516e-04</td>\n",
              "      <td>-1.666675e-05</td>\n",
              "    </tr>\n",
              "    <tr>\n",
              "      <th>2</th>\n",
              "      <td>0.00100</td>\n",
              "      <td>7.389056</td>\n",
              "      <td>7.389057</td>\n",
              "      <td>-1.231509e-06</td>\n",
              "      <td>-1.666666e-07</td>\n",
              "    </tr>\n",
              "    <tr>\n",
              "      <th>3</th>\n",
              "      <td>0.00010</td>\n",
              "      <td>7.389056</td>\n",
              "      <td>7.389056</td>\n",
              "      <td>-1.232264e-08</td>\n",
              "      <td>-1.667688e-09</td>\n",
              "    </tr>\n",
              "    <tr>\n",
              "      <th>4</th>\n",
              "      <td>0.00001</td>\n",
              "      <td>7.389056</td>\n",
              "      <td>7.389056</td>\n",
              "      <td>-1.856799e-10</td>\n",
              "      <td>-2.512904e-11</td>\n",
              "    </tr>\n",
              "  </tbody>\n",
              "</table>\n",
              "</div>\n",
              "      <button class=\"colab-df-convert\" onclick=\"convertToInteractive('df-80b61568-ff87-47cd-a710-4f5064b941be')\"\n",
              "              title=\"Convert this dataframe to an interactive table.\"\n",
              "              style=\"display:none;\">\n",
              "        \n",
              "  <svg xmlns=\"http://www.w3.org/2000/svg\" height=\"24px\"viewBox=\"0 0 24 24\"\n",
              "       width=\"24px\">\n",
              "    <path d=\"M0 0h24v24H0V0z\" fill=\"none\"/>\n",
              "    <path d=\"M18.56 5.44l.94 2.06.94-2.06 2.06-.94-2.06-.94-.94-2.06-.94 2.06-2.06.94zm-11 1L8.5 8.5l.94-2.06 2.06-.94-2.06-.94L8.5 2.5l-.94 2.06-2.06.94zm10 10l.94 2.06.94-2.06 2.06-.94-2.06-.94-.94-2.06-.94 2.06-2.06.94z\"/><path d=\"M17.41 7.96l-1.37-1.37c-.4-.4-.92-.59-1.43-.59-.52 0-1.04.2-1.43.59L10.3 9.45l-7.72 7.72c-.78.78-.78 2.05 0 2.83L4 21.41c.39.39.9.59 1.41.59.51 0 1.02-.2 1.41-.59l7.78-7.78 2.81-2.81c.8-.78.8-2.07 0-2.86zM5.41 20L4 18.59l7.72-7.72 1.47 1.35L5.41 20z\"/>\n",
              "  </svg>\n",
              "      </button>\n",
              "      \n",
              "  <style>\n",
              "    .colab-df-container {\n",
              "      display:flex;\n",
              "      flex-wrap:wrap;\n",
              "      gap: 12px;\n",
              "    }\n",
              "\n",
              "    .colab-df-convert {\n",
              "      background-color: #E8F0FE;\n",
              "      border: none;\n",
              "      border-radius: 50%;\n",
              "      cursor: pointer;\n",
              "      display: none;\n",
              "      fill: #1967D2;\n",
              "      height: 32px;\n",
              "      padding: 0 0 0 0;\n",
              "      width: 32px;\n",
              "    }\n",
              "\n",
              "    .colab-df-convert:hover {\n",
              "      background-color: #E2EBFA;\n",
              "      box-shadow: 0px 1px 2px rgba(60, 64, 67, 0.3), 0px 1px 3px 1px rgba(60, 64, 67, 0.15);\n",
              "      fill: #174EA6;\n",
              "    }\n",
              "\n",
              "    [theme=dark] .colab-df-convert {\n",
              "      background-color: #3B4455;\n",
              "      fill: #D2E3FC;\n",
              "    }\n",
              "\n",
              "    [theme=dark] .colab-df-convert:hover {\n",
              "      background-color: #434B5C;\n",
              "      box-shadow: 0px 1px 3px 1px rgba(0, 0, 0, 0.15);\n",
              "      filter: drop-shadow(0px 1px 2px rgba(0, 0, 0, 0.3));\n",
              "      fill: #FFFFFF;\n",
              "    }\n",
              "  </style>\n",
              "\n",
              "      <script>\n",
              "        const buttonEl =\n",
              "          document.querySelector('#df-80b61568-ff87-47cd-a710-4f5064b941be button.colab-df-convert');\n",
              "        buttonEl.style.display =\n",
              "          google.colab.kernel.accessAllowed ? 'block' : 'none';\n",
              "\n",
              "        async function convertToInteractive(key) {\n",
              "          const element = document.querySelector('#df-80b61568-ff87-47cd-a710-4f5064b941be');\n",
              "          const dataTable =\n",
              "            await google.colab.kernel.invokeFunction('convertToInteractive',\n",
              "                                                     [key], {});\n",
              "          if (!dataTable) return;\n",
              "\n",
              "          const docLinkHtml = 'Like what you see? Visit the ' +\n",
              "            '<a target=\"_blank\" href=https://colab.research.google.com/notebooks/data_table.ipynb>data table notebook</a>'\n",
              "            + ' to learn more about interactive tables.';\n",
              "          element.innerHTML = '';\n",
              "          dataTable['output_type'] = 'display_data';\n",
              "          await google.colab.output.renderOutput(dataTable, element);\n",
              "          const docLink = document.createElement('div');\n",
              "          docLink.innerHTML = docLinkHtml;\n",
              "          element.appendChild(docLink);\n",
              "        }\n",
              "      </script>\n",
              "    </div>\n",
              "  </div>\n",
              "  "
            ]
          },
          "metadata": {},
          "execution_count": 7
        }
      ],
      "source": [
        "#concatenating the tables necessary for the central difference derivative estimate\n",
        "\n",
        "Center_Table = pd.concat([dfh,dftrue,dfcenter,dfCenterTruErr,dfCenRelErr], axis = 1)\n",
        "Center_Table"
      ]
    },
    {
      "cell_type": "markdown",
      "metadata": {
        "id": "Dqads9XMmPac"
      },
      "source": [
        "**The central difference derivative estimate is the most precise approximation. It is accurate up to 4 significant digits where $ h=\\frac{1}{100} $, compared to the forward estimate, which is not that precise until $ h=\\frac{1}{10000}$.**"
      ]
    },
    {
      "cell_type": "markdown",
      "metadata": {
        "id": "lhPTt2fLmPad"
      },
      "source": [
        "# Finite Difference Second Derivative Estimate"
      ]
    },
    {
      "cell_type": "code",
      "execution_count": null,
      "metadata": {
        "colab": {
          "base_uri": "https://localhost:8080/",
          "height": 206
        },
        "id": "KmkIKAaY-OqT",
        "outputId": "46ec259f-4a67-4e4f-88a7-9319e5c04d97"
      },
      "outputs": [
        {
          "output_type": "execute_result",
          "data": {
            "text/plain": [
              "         h  true val.  finite diff.  finite true err  finite relative err\n",
              "0  0.10000   7.389056      7.395216    -6.159600e-03        -8.336112e-04\n",
              "1  0.01000   7.389056      7.389118    -6.157566e-05        -8.333359e-06\n",
              "2  0.00100   7.389056      7.389057    -6.160042e-07        -8.336710e-08\n",
              "3  0.00010   7.389056      7.389056    -1.124070e-07        -1.521264e-08\n",
              "4  0.00001   7.389056      7.389049     6.726567e-06         9.103418e-07"
            ],
            "text/html": [
              "\n",
              "  <div id=\"df-7d038d7d-51c7-4c54-adb3-92c610f30e4a\">\n",
              "    <div class=\"colab-df-container\">\n",
              "      <div>\n",
              "<style scoped>\n",
              "    .dataframe tbody tr th:only-of-type {\n",
              "        vertical-align: middle;\n",
              "    }\n",
              "\n",
              "    .dataframe tbody tr th {\n",
              "        vertical-align: top;\n",
              "    }\n",
              "\n",
              "    .dataframe thead th {\n",
              "        text-align: right;\n",
              "    }\n",
              "</style>\n",
              "<table border=\"1\" class=\"dataframe\">\n",
              "  <thead>\n",
              "    <tr style=\"text-align: right;\">\n",
              "      <th></th>\n",
              "      <th>h</th>\n",
              "      <th>true val.</th>\n",
              "      <th>finite diff.</th>\n",
              "      <th>finite true err</th>\n",
              "      <th>finite relative err</th>\n",
              "    </tr>\n",
              "  </thead>\n",
              "  <tbody>\n",
              "    <tr>\n",
              "      <th>0</th>\n",
              "      <td>0.10000</td>\n",
              "      <td>7.389056</td>\n",
              "      <td>7.395216</td>\n",
              "      <td>-6.159600e-03</td>\n",
              "      <td>-8.336112e-04</td>\n",
              "    </tr>\n",
              "    <tr>\n",
              "      <th>1</th>\n",
              "      <td>0.01000</td>\n",
              "      <td>7.389056</td>\n",
              "      <td>7.389118</td>\n",
              "      <td>-6.157566e-05</td>\n",
              "      <td>-8.333359e-06</td>\n",
              "    </tr>\n",
              "    <tr>\n",
              "      <th>2</th>\n",
              "      <td>0.00100</td>\n",
              "      <td>7.389056</td>\n",
              "      <td>7.389057</td>\n",
              "      <td>-6.160042e-07</td>\n",
              "      <td>-8.336710e-08</td>\n",
              "    </tr>\n",
              "    <tr>\n",
              "      <th>3</th>\n",
              "      <td>0.00010</td>\n",
              "      <td>7.389056</td>\n",
              "      <td>7.389056</td>\n",
              "      <td>-1.124070e-07</td>\n",
              "      <td>-1.521264e-08</td>\n",
              "    </tr>\n",
              "    <tr>\n",
              "      <th>4</th>\n",
              "      <td>0.00001</td>\n",
              "      <td>7.389056</td>\n",
              "      <td>7.389049</td>\n",
              "      <td>6.726567e-06</td>\n",
              "      <td>9.103418e-07</td>\n",
              "    </tr>\n",
              "  </tbody>\n",
              "</table>\n",
              "</div>\n",
              "      <button class=\"colab-df-convert\" onclick=\"convertToInteractive('df-7d038d7d-51c7-4c54-adb3-92c610f30e4a')\"\n",
              "              title=\"Convert this dataframe to an interactive table.\"\n",
              "              style=\"display:none;\">\n",
              "        \n",
              "  <svg xmlns=\"http://www.w3.org/2000/svg\" height=\"24px\"viewBox=\"0 0 24 24\"\n",
              "       width=\"24px\">\n",
              "    <path d=\"M0 0h24v24H0V0z\" fill=\"none\"/>\n",
              "    <path d=\"M18.56 5.44l.94 2.06.94-2.06 2.06-.94-2.06-.94-.94-2.06-.94 2.06-2.06.94zm-11 1L8.5 8.5l.94-2.06 2.06-.94-2.06-.94L8.5 2.5l-.94 2.06-2.06.94zm10 10l.94 2.06.94-2.06 2.06-.94-2.06-.94-.94-2.06-.94 2.06-2.06.94z\"/><path d=\"M17.41 7.96l-1.37-1.37c-.4-.4-.92-.59-1.43-.59-.52 0-1.04.2-1.43.59L10.3 9.45l-7.72 7.72c-.78.78-.78 2.05 0 2.83L4 21.41c.39.39.9.59 1.41.59.51 0 1.02-.2 1.41-.59l7.78-7.78 2.81-2.81c.8-.78.8-2.07 0-2.86zM5.41 20L4 18.59l7.72-7.72 1.47 1.35L5.41 20z\"/>\n",
              "  </svg>\n",
              "      </button>\n",
              "      \n",
              "  <style>\n",
              "    .colab-df-container {\n",
              "      display:flex;\n",
              "      flex-wrap:wrap;\n",
              "      gap: 12px;\n",
              "    }\n",
              "\n",
              "    .colab-df-convert {\n",
              "      background-color: #E8F0FE;\n",
              "      border: none;\n",
              "      border-radius: 50%;\n",
              "      cursor: pointer;\n",
              "      display: none;\n",
              "      fill: #1967D2;\n",
              "      height: 32px;\n",
              "      padding: 0 0 0 0;\n",
              "      width: 32px;\n",
              "    }\n",
              "\n",
              "    .colab-df-convert:hover {\n",
              "      background-color: #E2EBFA;\n",
              "      box-shadow: 0px 1px 2px rgba(60, 64, 67, 0.3), 0px 1px 3px 1px rgba(60, 64, 67, 0.15);\n",
              "      fill: #174EA6;\n",
              "    }\n",
              "\n",
              "    [theme=dark] .colab-df-convert {\n",
              "      background-color: #3B4455;\n",
              "      fill: #D2E3FC;\n",
              "    }\n",
              "\n",
              "    [theme=dark] .colab-df-convert:hover {\n",
              "      background-color: #434B5C;\n",
              "      box-shadow: 0px 1px 3px 1px rgba(0, 0, 0, 0.15);\n",
              "      filter: drop-shadow(0px 1px 2px rgba(0, 0, 0, 0.3));\n",
              "      fill: #FFFFFF;\n",
              "    }\n",
              "  </style>\n",
              "\n",
              "      <script>\n",
              "        const buttonEl =\n",
              "          document.querySelector('#df-7d038d7d-51c7-4c54-adb3-92c610f30e4a button.colab-df-convert');\n",
              "        buttonEl.style.display =\n",
              "          google.colab.kernel.accessAllowed ? 'block' : 'none';\n",
              "\n",
              "        async function convertToInteractive(key) {\n",
              "          const element = document.querySelector('#df-7d038d7d-51c7-4c54-adb3-92c610f30e4a');\n",
              "          const dataTable =\n",
              "            await google.colab.kernel.invokeFunction('convertToInteractive',\n",
              "                                                     [key], {});\n",
              "          if (!dataTable) return;\n",
              "\n",
              "          const docLinkHtml = 'Like what you see? Visit the ' +\n",
              "            '<a target=\"_blank\" href=https://colab.research.google.com/notebooks/data_table.ipynb>data table notebook</a>'\n",
              "            + ' to learn more about interactive tables.';\n",
              "          element.innerHTML = '';\n",
              "          dataTable['output_type'] = 'display_data';\n",
              "          await google.colab.output.renderOutput(dataTable, element);\n",
              "          const docLink = document.createElement('div');\n",
              "          docLink.innerHTML = docLinkHtml;\n",
              "          element.appendChild(docLink);\n",
              "        }\n",
              "      </script>\n",
              "    </div>\n",
              "  </div>\n",
              "  "
            ]
          },
          "metadata": {},
          "execution_count": 8
        }
      ],
      "source": [
        "#concatenating the tables necessary for the second derivative estimate\n",
        "\n",
        "Finite_Table = pd.concat([dfh,dftrue,dffinite,dfFiniteTruErr,dfFiniteRelErr], axis = 1)\n",
        "Finite_Table"
      ]
    },
    {
      "cell_type": "markdown",
      "metadata": {
        "id": "OeqvWIkTmPae"
      },
      "source": [
        "# Lagrange Interpolation\n",
        "**Lagrange Interpolation**\n",
        "**The Lagrange Interpolation is a linear function used to estimate the derivative of a function given k+1 data points. We define it as:**\n",
        "\n",
        "$L(x)=\\sum_{j=0}^{k}y_jl_j(x)$ \n",
        "\n",
        "**where**\n",
        "\n",
        "$l_j(x)= \\prod_{i=0,i\\neq j}^{k}\\frac{x-x_i}{x_j-x_i}$ \n",
        "\n",
        "**Our Lagrange Interpolation is of degree 2. If it had more degrees, it would only be more accurate. Each factor parameterizes the given points that lie on the true function and build a polynomial around them. For each extra point, that is another parameter directly from the true function for the polynomial to operate by.**"
      ]
    },
    {
      "cell_type": "markdown",
      "metadata": {
        "id": "vuvivH-kmPae"
      },
      "source": [
        "**The values $y_j l_j(x)$ in $L_j(x)$ create a polynomial where $y_j$ is the coefficient for the $j$th term and $l_j(x)$ is the polynomial term with solutions (zeroes) at $x_i$ where $i\\neq j$.** "
      ]
    },
    {
      "cell_type": "code",
      "execution_count": null,
      "metadata": {
        "id": "4E6SIhW7mPaf"
      },
      "outputs": [],
      "source": [
        "# Define the function we want to interpolate\n",
        "def f(x):\n",
        "    return np.exp(x)\n",
        "\n",
        "# Define the points we want to use for interpolation\n",
        "center = 2\n",
        "x_vals = [center, center + 0.1, 2*center]\n",
        "y_vals = [f(x) for x in x_vals]\n",
        "\n",
        "# Define a function to compute the Lagrange polynomial\n",
        "def lagrange(x, x_vals, y_vals):\n",
        "    n = len(x_vals)\n",
        "    lag_poly = 0\n",
        "    for i in range(n):\n",
        "        term = y_vals[i]\n",
        "        for j in range(n):\n",
        "            if i != j:\n",
        "                term *= (x - x_vals[j]) / (x_vals[i] - x_vals[j])\n",
        "        lag_poly += term\n",
        "    return lag_poly\n",
        "\n",
        "# Interpolate the function at center + 0.2\n",
        "interp_x = center + 0.2\n",
        "interp_y = lagrange(interp_x, x_vals, y_vals)\n",
        "true_y = f(interp_x)\n",
        "\n",
        "# Compute the absolute and relative errors\n",
        "abs_error = abs(interp_y - true_y)\n",
        "rel_error = abs_error / abs(true_y)\n",
        "\n",
        "# Compute the second derivative of the Lagrange polynomial\n",
        "def lagrange_second_deriv(x, x_vals, y_vals):\n",
        "    n = len(x_vals)\n",
        "    lag_poly_second_deriv = 0\n",
        "    for i in range(n):\n",
        "        term = 0\n",
        "        for j in range(n):\n",
        "            if i != j:\n",
        "                term += 1 / (x_vals[i] - x_vals[j])\n",
        "        term *= y_vals[i]\n",
        "        for j in range(n):\n",
        "            if i != j:\n",
        "                term *= (x - x_vals[j])\n",
        "        lag_poly_second_deriv += term\n",
        "    return 2 * lag_poly_second_deriv / ((interp_x - center)**2)\n",
        "\n",
        "# Compute the absolute and relative errors of the second derivative\n",
        "interp_second_deriv = lagrange_second_deriv(interp_x, x_vals, y_vals)\n",
        "true_second_deriv = f(interp_x)\n",
        "\n",
        "abs_error_second_deriv = abs(interp_second_deriv - true_second_deriv)\n",
        "rel_error_second_deriv = abs_error_second_deriv / abs(true_second_deriv)"
      ]
    },
    {
      "cell_type": "markdown",
      "metadata": {
        "id": "uQtO2BfBmPaf"
      },
      "source": [
        "# Graph of Lagrange Interpolation and $ e^x $"
      ]
    },
    {
      "cell_type": "code",
      "execution_count": null,
      "metadata": {
        "id": "f8wvP7wImPaf",
        "outputId": "a1a51eb6-bb0a-41d4-a3c5-45624334f3a7",
        "colab": {
          "base_uri": "https://localhost:8080/",
          "height": 265
        }
      },
      "outputs": [
        {
          "output_type": "display_data",
          "data": {
            "text/plain": [
              "<Figure size 432x288 with 1 Axes>"
            ],
            "image/png": "[encoded data removed]"
          },
          "metadata": {
            "needs_background": "light"
          }
        }
      ],
      "source": [
        "# Plot the interpolation and the original function\n",
        "x_range = np.linspace(0, 2*center, 1000)\n",
        "interp_y_vals = [lagrange(x, x_vals, y_vals) for x in x_range]\n",
        "true_y_vals = [f(x) for x in x_range]\n",
        "\n",
        "plt.plot(x_range, interp_y_vals, label=\"Interpolation\")\n",
        "plt.plot(x_range, true_y_vals, label=\"True Function\")\n",
        "plt.scatter(x_vals, y_vals, color=\"red\", label=\"Interpolation Points\")\n",
        "plt.legend()\n",
        "plt.show()"
      ]
    },
    {
      "cell_type": "markdown",
      "metadata": {
        "id": "WxHdll6dmPag"
      },
      "source": [
        "# Error of Lagrange Interpolation"
      ]
    },
    {
      "cell_type": "code",
      "execution_count": null,
      "metadata": {
        "colab": {
          "base_uri": "https://localhost:8080/"
        },
        "id": "MJTBqaWs2eVj",
        "outputId": "9f4e3023-e83c-436d-812c-26e6daae8e03"
      },
      "outputs": [
        {
          "output_type": "stream",
          "name": "stdout",
          "text": [
            "true value = 9.025013499434122\n",
            "approximate value = 9.10995118758083\n",
            "true error = -0.08493768814670766\n",
            "relative true error =-0.009411364110650177\n"
          ]
        }
      ],
      "source": [
        "print('true value = ' + str(f(2.2)))\n",
        "print('approximate value = ' + str(lagrange(2.2,x_vals,y_vals)))\n",
        "\n",
        "print('true error = ' + str(terror(f(2.2),lagrange(2.2,x_vals,y_vals))))\n",
        "print('relative true error =' + str(rterror(terror(f(2.2),lagrange(2.2,x_vals,y_vals)),f(2.2))))"
      ]
    },
    {
      "cell_type": "markdown",
      "metadata": {
        "id": "ecy3Q8hcmPah"
      },
      "source": [
        "**Our Lagrange Interpolation is 99% accurate at $ x=2.2 $. It is a slight over estimation in our bounds of $[2,4]$.**"
      ]
    },
    {
      "cell_type": "markdown",
      "metadata": {
        "id": "X7X1SA6bmPah"
      },
      "source": [
        "# Error of Second Derivative of Lagrange Interpolation"
      ]
    },
    {
      "cell_type": "code",
      "execution_count": null,
      "metadata": {
        "id": "BiUwRlPfF2vi",
        "outputId": "1d243d40-7464-4337-f50b-0e802b3e5d46",
        "colab": {
          "base_uri": "https://localhost:8080/"
        }
      },
      "outputs": [
        {
          "output_type": "stream",
          "name": "stdout",
          "text": [
            "true value of second derivative = 9.025013499434122\n",
            "approximate value of second derivative = -638.246124496993\n",
            "true error of second derivative = 647.2711379964271\n",
            "relative true error of second derivative = 71.71968640678617\n"
          ]
        }
      ],
      "source": [
        "# error of second deriv at x = 2.2\n",
        "# f''(2.2) = f'(2.2) = f(2.2) \n",
        "\n",
        "print('true value of second derivative = ' + str(f(2.2)))\n",
        "print('approximate value of second derivative = ' + str(lagrange_second_deriv(2.2,x_vals,y_vals)))\n",
        "print('true error of second derivative = ' + str(abs_error_second_deriv))\n",
        "print('relative true error of second derivative = ' + str(rel_error_second_deriv))"
      ]
    },
    {
      "cell_type": "markdown",
      "metadata": {
        "id": "AXnl3QbRmPai"
      },
      "source": [
        "**The second derivative of our Lagrange Interpolation is not accurate at $x=2.2$. The polynomial does not derive similarly to the function $ e^x $, because $ f^n(x) = e^x $, and the polynomial turns into a much more ghastly polynomial after the derivation rules are applied.**"
      ]
    },
    {
      "cell_type": "markdown",
      "metadata": {
        "id": "XQSODoIimPai"
      },
      "source": [
        "# Shortcomings"
      ]
    },
    {
      "cell_type": "markdown",
      "metadata": {
        "id": "zNJnOwTCmPai"
      },
      "source": [
        "**It isn't all that useful for us in daily life to use this approximation to find the derivative, it is inaccurate outside of the range of points we use to interpolate. It is however, useful for discrete sets of data and gains accuracy as it gains interpolation points.**\n",
        "\n",
        "**When the continuous function is known, it can sometimes be difficult to know how far to go when you're narrowing down the increment value. Because of this, it is possible to get different values from the same approximation just from not adding another 0. While these are still approximations and therefore don't have to be precise, it's still unfortunate that such a simple error can result in this difference.**"
      ]
    },
    {
      "cell_type": "markdown",
      "metadata": {
        "id": "kkgqP-7z1vh7"
      },
      "source": [
        "# Typesetting the Lagrange Interpolation"
      ]
    },
    {
      "cell_type": "markdown",
      "source": [
        "\\\\[L_j(x)=\\Sigma^k_j y_j l_j(x)\\\\]"
      ],
      "metadata": {
        "id": "dxp2xa5m1mZm"
      }
    }
  ],
  "metadata": {
    "colab": {
      "provenance": [],
      "include_colab_link": true
    },
    "kernelspec": {
      "display_name": "Python 3 (ipykernel)",
      "language": "python",
      "name": "python3"
    },
    "language_info": {
      "codemirror_mode": {
        "name": "ipython",
        "version": 3
      },
      "file_extension": ".py",
      "mimetype": "text/x-python",
      "name": "python",
      "nbconvert_exporter": "python",
      "pygments_lexer": "ipython3",
      "version": "3.9.13"
    },
    "toc-showcode": true,
    "toc-showmarkdowntxt": true
  },
  "nbformat": 4,
  "nbformat_minor": 0
}