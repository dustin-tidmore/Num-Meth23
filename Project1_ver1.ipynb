{
  "cells": [
    {
      "cell_type": "markdown",
      "metadata": {
        "id": "view-in-github",
        "colab_type": "text"
      },
      "source": [
        "<a href=\"https://colab.research.google.com/github/kenltho2/Num-Meth23/blob/main/Project1_ver1.ipynb\" target=\"_parent\"><img src=\"https://colab.research.google.com/assets/colab-badge.svg\" alt=\"Open In Colab\"/></a>"
      ]
    },
    {
      "cell_type": "markdown",
      "metadata": {
        "id": "4u7cYXx5yJIk"
      },
      "source": [
        "# <div align =\"center\"> Project 1 CPSMA 4413\n",
        "## <div align =\"center\"> Collaborators: Aaron Arias Vales, Dustin Tidmore, Kennedy Thomas\n",
        "### <div align =\"center\"> March 10th, 2023"
      ]
    },
    {
      "cell_type": "code",
      "execution_count": 10,
      "metadata": {
        "id": "In8CNTcbASZM"
      },
      "outputs": [],
      "source": [
        "import math\n",
        "import pandas as pd\n",
        "import numpy as np\n",
        "import matplotlib.pyplot as plt"
      ]
    },
    {
      "cell_type": "markdown",
      "metadata": {
        "id": "ysQlLO9nDIKD"
      },
      "source": [
        "*The cell below contains the code for our approximate error calculations.*"
      ]
    },
    {
      "cell_type": "code",
      "execution_count": 16,
      "metadata": {
        "id": "K8Ev43TRyHFr"
      },
      "outputs": [],
      "source": [
        "#true error\n",
        "def terror(true, approx):\n",
        "  error_t = true - approx\n",
        "  return error_t\n",
        "\n",
        "#relative true error \n",
        "def rterror(terror,tValue):\n",
        "  RTerror = terror / tValue\n",
        "  return RTerror\n",
        "\n",
        "#approximate error\n",
        "def approxError(current,previous):\n",
        "  if previous == '':\n",
        "    return 'None'\n",
        "  else:\n",
        "    Aerror = current - previous\n",
        "    return Aerror\n",
        "  \n",
        "  #relative approximate error\n",
        "  def RelativeApproxError(approxError, current):\n",
        "    if current == 0:\n",
        "      return 'None'\n",
        "    else:\n",
        "      RAError = approxError / current\n",
        "      return RAError\n",
        "  "
      ]
    },
    {
      "cell_type": "markdown",
      "metadata": {
        "id": "KZGWwTfQEGQ3"
      },
      "source": [
        "*The following cell contains our approximations for $e^x$, as well as the true function for $e^x$.*"
      ]
    },
    {
      "cell_type": "code",
      "execution_count": 17,
      "metadata": {
        "id": "LEMsomy2FMCe"
      },
      "outputs": [],
      "source": [
        "def approx_e(x,y):\n",
        "  e_approximation = 0\n",
        "  for i in range(y):\n",
        "    e_approximation += x**i / math.factorial(i)\n",
        "  return e_approximation\n",
        "\n",
        "def true_e(x):\n",
        "  return math.exp(x)"
      ]
    },
    {
      "cell_type": "markdown",
      "metadata": {
        "id": "zKpsnFZKGkzf"
      },
      "source": [
        "**Now we begin to merge the two. The goal is to build a table that relates the error of our approximation to the true value of $e^x$ centered at a point of our choosing. The table will also include error values at each approximation.**"
      ]
    },
    {
      "cell_type": "code",
      "execution_count": 19,
      "metadata": {
        "colab": {
          "base_uri": "https://localhost:8080/"
        },
        "id": "wVlqw4tjH7KN",
        "outputId": "e0beabde-4ba6-4324-e657-efb0a3037793"
      },
      "outputs": [
        {
          "output_type": "execute_result",
          "data": {
            "text/plain": [
              "7.38905609893065"
            ]
          },
          "metadata": {},
          "execution_count": 19
        }
      ],
      "source": [
        "# returns the true value of e for every row; strictly for comparison\n",
        "def tablevalue(x,n):\n",
        "  for i in range(n):\n",
        "    return math.exp(x)\n",
        "\n",
        "# runs the true error for our e^x approximation vs the true value in range n\n",
        "def TrueError_e(x,n):\n",
        "  for i in range(n):\n",
        "    return terror(true_e(x),approx_e(x,i))\n",
        "\n",
        "#returns our relative true error for each approximation in range n\n",
        "def Rel_TrueError_e(x,n):\n",
        "  for i in range(n):\n",
        "   return rterror(TrueError_e(x,i),true_e(x))\n",
        "\n",
        "#returns approximate error for our e approximations\n",
        "def ApproxError_e(x,n):\n",
        "  for i in range(n):\n",
        "    if i >=1:\n",
        "      return approxError(approx_e(x,i),approx_e(x,i-1))\n",
        "    else:\n",
        "      return 'None'\n",
        "\n",
        "#returns relative approximate error for our e approximations\n",
        "def Rel_ApproxError_e(x,n):\n",
        "  for i in range(n):\n",
        "    if i >=1:\n",
        "      return RelativeApproxError(ApproxError_e(approx_e(x,i),approx_e(x,i-1)),approx_e(x,i))\n",
        "    else:\n",
        "      return 'None'\n",
        "TrueError_e(2,10)"
      ]
    }
  ],
  "metadata": {
    "colab": {
      "provenance": [],
      "authorship_tag": "ABX9TyP1u0ejLUMdPZ+2OdWJ8u9i",
      "include_colab_link": true
    },
    "kernelspec": {
      "display_name": "Python 3",
      "name": "python3"
    },
    "language_info": {
      "name": "python"
    }
  },
  "nbformat": 4,
  "nbformat_minor": 0
}